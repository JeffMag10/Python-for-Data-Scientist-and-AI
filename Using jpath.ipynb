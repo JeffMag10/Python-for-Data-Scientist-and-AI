{
 "cells": [
  {
   "cell_type": "code",
   "execution_count": 2,
   "metadata": {},
   "outputs": [
    {
     "name": "stdout",
     "output_type": "stream",
     "text": [
      "Collecting pip\n",
      "  Downloading pip-20.2.3-py2.py3-none-any.whl (1.5 MB)\n",
      "\u001b[K     |████████████████████████████████| 1.5 MB 546 kB/s eta 0:00:01\n",
      "\u001b[?25hInstalling collected packages: pip\n",
      "  Attempting uninstall: pip\n",
      "    Found existing installation: pip 20.2.2\n",
      "    Uninstalling pip-20.2.2:\n",
      "      Successfully uninstalled pip-20.2.2\n",
      "Successfully installed pip-20.2.3\n",
      "Collecting jsonpath-ng\n",
      "  Downloading jsonpath_ng-1.5.2-py3-none-any.whl (28 kB)\n",
      "Requirement already satisfied, skipping upgrade: six in /opt/anaconda3/lib/python3.7/site-packages (from jsonpath-ng) (1.13.0)\n",
      "Requirement already satisfied, skipping upgrade: ply in /opt/anaconda3/lib/python3.7/site-packages (from jsonpath-ng) (3.11)\n",
      "Requirement already satisfied, skipping upgrade: decorator in /opt/anaconda3/lib/python3.7/site-packages (from jsonpath-ng) (4.4.0)\n",
      "Installing collected packages: jsonpath-ng\n",
      "Successfully installed jsonpath-ng-1.5.2\n",
      "Collecting pandas\n",
      "  Downloading pandas-1.1.2-cp37-cp37m-macosx_10_9_x86_64.whl (10.4 MB)\n",
      "\u001b[K     |████████████████████████████████| 10.4 MB 622 kB/s eta 0:00:01\n",
      "\u001b[?25hRequirement already satisfied, skipping upgrade: numpy>=1.15.4 in /opt/anaconda3/lib/python3.7/site-packages (from pandas) (1.17.2)\n",
      "Requirement already satisfied, skipping upgrade: pytz>=2017.2 in /opt/anaconda3/lib/python3.7/site-packages (from pandas) (2019.3)\n",
      "Requirement already satisfied, skipping upgrade: python-dateutil>=2.7.3 in /opt/anaconda3/lib/python3.7/site-packages (from pandas) (2.8.0)\n",
      "Requirement already satisfied, skipping upgrade: six>=1.5 in /opt/anaconda3/lib/python3.7/site-packages (from python-dateutil>=2.7.3->pandas) (1.13.0)\n",
      "Installing collected packages: pandas\n",
      "  Attempting uninstall: pandas\n",
      "    Found existing installation: pandas 0.25.3\n",
      "    Uninstalling pandas-0.25.3:\n",
      "      Successfully uninstalled pandas-0.25.3\n",
      "Successfully installed pandas-1.1.2\n",
      "Collecting sagemaker\n",
      "  Downloading sagemaker-2.5.4.tar.gz (295 kB)\n",
      "\u001b[K     |████████████████████████████████| 295 kB 307 kB/s eta 0:00:01\n",
      "\u001b[?25hCollecting boto3>=1.14.12\n",
      "  Downloading boto3-1.14.58.tar.gz (97 kB)\n",
      "\u001b[K     |████████████████████████████████| 97 kB 680 kB/s eta 0:00:01\n",
      "\u001b[?25hRequirement already satisfied: google-pasta in /opt/anaconda3/lib/python3.7/site-packages (from sagemaker) (0.1.8)\n",
      "Requirement already satisfied: numpy>=1.9.0 in /opt/anaconda3/lib/python3.7/site-packages (from sagemaker) (1.17.2)\n",
      "Requirement already satisfied: protobuf>=3.1 in /opt/anaconda3/lib/python3.7/site-packages (from sagemaker) (3.11.3)\n",
      "Processing /Users/jeffrey.magouirk/Library/Caches/pip/wheels/37/42/d8/1609d310cabebc2cf60eca038fa2b0c8503412963734a6fc31/protobuf3_to_dict-0.1.5-cp37-none-any.whl\n",
      "Collecting smdebug-rulesconfig==0.1.5\n",
      "  Downloading smdebug_rulesconfig-0.1.5-py2.py3-none-any.whl (6.2 kB)\n",
      "Collecting importlib-metadata>=1.4.0\n",
      "  Downloading importlib_metadata-1.7.0-py2.py3-none-any.whl (31 kB)\n",
      "Collecting packaging>=20.0\n",
      "  Using cached packaging-20.4-py2.py3-none-any.whl (37 kB)\n",
      "Collecting botocore<1.18.0,>=1.17.58\n",
      "  Downloading botocore-1.17.58-py2.py3-none-any.whl (6.6 MB)\n",
      "\u001b[K     |████████████████████████████████| 6.6 MB 674 kB/s eta 0:00:01\n",
      "\u001b[?25hRequirement already satisfied: jmespath<1.0.0,>=0.7.1 in /opt/anaconda3/lib/python3.7/site-packages (from boto3>=1.14.12->sagemaker) (0.9.4)\n",
      "Collecting s3transfer<0.4.0,>=0.3.0\n",
      "  Downloading s3transfer-0.3.3-py2.py3-none-any.whl (69 kB)\n",
      "\u001b[K     |████████████████████████████████| 69 kB 658 kB/s eta 0:00:01\n",
      "\u001b[?25hRequirement already satisfied: six in /opt/anaconda3/lib/python3.7/site-packages (from google-pasta->sagemaker) (1.13.0)\n",
      "Requirement already satisfied: setuptools in /opt/anaconda3/lib/python3.7/site-packages (from protobuf>=3.1->sagemaker) (41.4.0)\n",
      "Requirement already satisfied: zipp>=0.5 in /opt/anaconda3/lib/python3.7/site-packages (from importlib-metadata>=1.4.0->sagemaker) (0.6.0)\n",
      "Requirement already satisfied: pyparsing>=2.0.2 in /opt/anaconda3/lib/python3.7/site-packages (from packaging>=20.0->sagemaker) (2.4.2)\n",
      "Requirement already satisfied: urllib3<1.26,>=1.20; python_version != \"3.4\" in /opt/anaconda3/lib/python3.7/site-packages (from botocore<1.18.0,>=1.17.58->boto3>=1.14.12->sagemaker) (1.25.7)\n",
      "Requirement already satisfied: python-dateutil<3.0.0,>=2.1 in /opt/anaconda3/lib/python3.7/site-packages (from botocore<1.18.0,>=1.17.58->boto3>=1.14.12->sagemaker) (2.8.0)\n",
      "Requirement already satisfied: docutils<0.16,>=0.10 in /opt/anaconda3/lib/python3.7/site-packages (from botocore<1.18.0,>=1.17.58->boto3>=1.14.12->sagemaker) (0.15.2)\n",
      "Requirement already satisfied: more-itertools in /opt/anaconda3/lib/python3.7/site-packages (from zipp>=0.5->importlib-metadata>=1.4.0->sagemaker) (7.2.0)\n",
      "Building wheels for collected packages: sagemaker, boto3\n",
      "  Building wheel for sagemaker (setup.py) ... \u001b[?25ldone\n",
      "\u001b[?25h  Created wheel for sagemaker: filename=sagemaker-2.5.4-py2.py3-none-any.whl size=415518 sha256=d635e75c8a8071c4fdef70106d13eccc2fae15c0a84105dd08e285a6ad111666\n",
      "  Stored in directory: /Users/jeffrey.magouirk/Library/Caches/pip/wheels/4b/57/4d/da97780a5df5e09aa0d22d0bf753d2d7f785180512a5e1f858\n",
      "  Building wheel for boto3 (setup.py) ... \u001b[?25ldone\n",
      "\u001b[?25h  Created wheel for boto3: filename=boto3-1.14.58-py2.py3-none-any.whl size=127858 sha256=88375d449d5a10b8e38b81027c4e8bbdf9a249fecf9d328564824deb32a3c286\n",
      "  Stored in directory: /Users/jeffrey.magouirk/Library/Caches/pip/wheels/9b/88/83/48b4b8be0d320cfedb69697841775c870cce91554ede0947ad\n",
      "Successfully built sagemaker boto3\n",
      "Installing collected packages: botocore, s3transfer, boto3, protobuf3-to-dict, smdebug-rulesconfig, importlib-metadata, packaging, sagemaker\n",
      "  Attempting uninstall: botocore\n",
      "    Found existing installation: botocore 1.13.24\n",
      "    Uninstalling botocore-1.13.24:\n",
      "      Successfully uninstalled botocore-1.13.24\n",
      "  Rolling back uninstall of botocore\n",
      "  Moving to /Users/jeffrey.magouirk/.local/lib/python3.7/site-packages/botocore-1.13.24.dist-info/\n",
      "   from /Users/jeffrey.magouirk/.local/lib/python3.7/site-packages/~otocore-1.13.24.dist-info\n",
      "  Moving to /Users/jeffrey.magouirk/.local/lib/python3.7/site-packages/botocore/\n",
      "   from /Users/jeffrey.magouirk/.local/lib/python3.7/site-packages/~otocore\n",
      "\u001b[31mERROR: Could not install packages due to an EnvironmentError: [Errno 13] Permission denied: '/opt/anaconda3/lib/python3.7/site-packages/botocore/data/sesv2/2019-09-27/service-2.json'\n",
      "Consider using the `--user` option or check the permissions.\n",
      "\u001b[0m\n",
      "Requirement already satisfied: boto3 in /opt/anaconda3/lib/python3.7/site-packages (1.10.14)\n",
      "Requirement already satisfied: s3transfer<0.3.0,>=0.2.0 in /opt/anaconda3/lib/python3.7/site-packages (from boto3) (0.2.1)\n",
      "Requirement already satisfied: botocore<1.14.0,>=1.13.14 in /Users/jeffrey.magouirk/.local/lib/python3.7/site-packages (from boto3) (1.13.24)\n",
      "Requirement already satisfied: jmespath<1.0.0,>=0.7.1 in /opt/anaconda3/lib/python3.7/site-packages (from boto3) (0.9.4)\n",
      "Requirement already satisfied: urllib3<1.26,>=1.20; python_version >= \"3.4\" in /opt/anaconda3/lib/python3.7/site-packages (from botocore<1.14.0,>=1.13.14->boto3) (1.25.7)\n",
      "Requirement already satisfied: python-dateutil<2.8.1,>=2.1; python_version >= \"2.7\" in /opt/anaconda3/lib/python3.7/site-packages (from botocore<1.14.0,>=1.13.14->boto3) (2.8.0)\n",
      "Requirement already satisfied: docutils<0.16,>=0.10 in /opt/anaconda3/lib/python3.7/site-packages (from botocore<1.14.0,>=1.13.14->boto3) (0.15.2)\n",
      "Requirement already satisfied: six>=1.5 in /opt/anaconda3/lib/python3.7/site-packages (from python-dateutil<2.8.1,>=2.1; python_version >= \"2.7\"->botocore<1.14.0,>=1.13.14->boto3) (1.13.0)\n",
      "Requirement already satisfied: s3fs in /opt/anaconda3/lib/python3.7/site-packages (0.3.5)\n",
      "Requirement already satisfied: boto3>=1.9.91 in /opt/anaconda3/lib/python3.7/site-packages (from s3fs) (1.10.14)\n",
      "Requirement already satisfied: fsspec>=0.2.2 in /opt/anaconda3/lib/python3.7/site-packages (from s3fs) (0.5.2)\n",
      "Requirement already satisfied: botocore>=1.12.91 in /Users/jeffrey.magouirk/.local/lib/python3.7/site-packages (from s3fs) (1.13.24)\n",
      "Requirement already satisfied: jmespath<1.0.0,>=0.7.1 in /opt/anaconda3/lib/python3.7/site-packages (from boto3>=1.9.91->s3fs) (0.9.4)\n",
      "Requirement already satisfied: s3transfer<0.3.0,>=0.2.0 in /opt/anaconda3/lib/python3.7/site-packages (from boto3>=1.9.91->s3fs) (0.2.1)\n",
      "Requirement already satisfied: urllib3<1.26,>=1.20; python_version >= \"3.4\" in /opt/anaconda3/lib/python3.7/site-packages (from botocore>=1.12.91->s3fs) (1.25.7)\n"
     ]
    },
    {
     "name": "stdout",
     "output_type": "stream",
     "text": [
      "Requirement already satisfied: python-dateutil<2.8.1,>=2.1; python_version >= \"2.7\" in /opt/anaconda3/lib/python3.7/site-packages (from botocore>=1.12.91->s3fs) (2.8.0)\r\n",
      "Requirement already satisfied: docutils<0.16,>=0.10 in /opt/anaconda3/lib/python3.7/site-packages (from botocore>=1.12.91->s3fs) (0.15.2)\r\n",
      "Requirement already satisfied: six>=1.5 in /opt/anaconda3/lib/python3.7/site-packages (from python-dateutil<2.8.1,>=2.1; python_version >= \"2.7\"->botocore>=1.12.91->s3fs) (1.13.0)\r\n"
     ]
    }
   ],
   "source": [
    "!pip install --upgrade pip\n",
    "!pip install --upgrade jsonpath-ng\n",
    "!pip install --upgrade pandas\n",
    "!pip install sagemaker\n",
    "!pip install boto3\n",
    "!pip install s3fs"
   ]
  },
  {
   "cell_type": "code",
   "execution_count": 4,
   "metadata": {},
   "outputs": [
    {
     "name": "stdout",
     "output_type": "stream",
     "text": [
      "Processing /Users/jeffrey.magouirk/Library/Caches/pip/wheels/4b/57/4d/da97780a5df5e09aa0d22d0bf753d2d7f785180512a5e1f858/sagemaker-2.5.4-py2.py3-none-any.whl\n",
      "Collecting importlib-metadata>=1.4.0\n",
      "  Using cached importlib_metadata-1.7.0-py2.py3-none-any.whl (31 kB)\n",
      "Collecting smdebug-rulesconfig==0.1.5\n",
      "  Using cached smdebug_rulesconfig-0.1.5-py2.py3-none-any.whl (6.2 kB)\n",
      "Processing /Users/jeffrey.magouirk/Library/Caches/pip/wheels/9b/88/83/48b4b8be0d320cfedb69697841775c870cce91554ede0947ad/boto3-1.14.58-py2.py3-none-any.whl\n",
      "Requirement already satisfied: google-pasta in /opt/anaconda3/lib/python3.7/site-packages (from sagemaker) (0.1.8)\n",
      "Requirement already satisfied: protobuf>=3.1 in /opt/anaconda3/lib/python3.7/site-packages (from sagemaker) (3.11.3)\n",
      "Processing /Users/jeffrey.magouirk/Library/Caches/pip/wheels/37/42/d8/1609d310cabebc2cf60eca038fa2b0c8503412963734a6fc31/protobuf3_to_dict-0.1.5-cp37-none-any.whl\n",
      "Collecting packaging>=20.0\n",
      "  Using cached packaging-20.4-py2.py3-none-any.whl (37 kB)\n",
      "Requirement already satisfied: numpy>=1.9.0 in /opt/anaconda3/lib/python3.7/site-packages (from sagemaker) (1.17.2)\n",
      "Requirement already satisfied: zipp>=0.5 in /opt/anaconda3/lib/python3.7/site-packages (from importlib-metadata>=1.4.0->sagemaker) (0.6.0)\n",
      "Collecting s3transfer<0.4.0,>=0.3.0\n",
      "  Using cached s3transfer-0.3.3-py2.py3-none-any.whl (69 kB)\n",
      "Requirement already satisfied: jmespath<1.0.0,>=0.7.1 in /opt/anaconda3/lib/python3.7/site-packages (from boto3>=1.14.12->sagemaker) (0.9.4)\n",
      "Collecting botocore<1.18.0,>=1.17.58\n",
      "  Using cached botocore-1.17.58-py2.py3-none-any.whl (6.6 MB)\n",
      "Requirement already satisfied: six in /opt/anaconda3/lib/python3.7/site-packages (from google-pasta->sagemaker) (1.13.0)\n",
      "Requirement already satisfied: setuptools in /opt/anaconda3/lib/python3.7/site-packages (from protobuf>=3.1->sagemaker) (41.4.0)\n",
      "Requirement already satisfied: pyparsing>=2.0.2 in /opt/anaconda3/lib/python3.7/site-packages (from packaging>=20.0->sagemaker) (2.4.2)\n",
      "Requirement already satisfied: more-itertools in /opt/anaconda3/lib/python3.7/site-packages (from zipp>=0.5->importlib-metadata>=1.4.0->sagemaker) (7.2.0)\n",
      "Requirement already satisfied: python-dateutil<3.0.0,>=2.1 in /opt/anaconda3/lib/python3.7/site-packages (from botocore<1.18.0,>=1.17.58->boto3>=1.14.12->sagemaker) (2.8.0)\n",
      "Requirement already satisfied: urllib3<1.26,>=1.20; python_version != \"3.4\" in /opt/anaconda3/lib/python3.7/site-packages (from botocore<1.18.0,>=1.17.58->boto3>=1.14.12->sagemaker) (1.25.7)\n",
      "Requirement already satisfied: docutils<0.16,>=0.10 in /opt/anaconda3/lib/python3.7/site-packages (from botocore<1.18.0,>=1.17.58->boto3>=1.14.12->sagemaker) (0.15.2)\n",
      "Installing collected packages: importlib-metadata, smdebug-rulesconfig, botocore, s3transfer, boto3, protobuf3-to-dict, packaging, sagemaker\n",
      "  Attempting uninstall: importlib-metadata\n",
      "    Found existing installation: importlib-metadata 0.23\n",
      "    Uninstalling importlib-metadata-0.23:\n",
      "      Successfully uninstalled importlib-metadata-0.23\n",
      "  Attempting uninstall: botocore\n",
      "    Found existing installation: botocore 1.13.24\n",
      "    Uninstalling botocore-1.13.24:\n",
      "      Successfully uninstalled botocore-1.13.24\n",
      "  Rolling back uninstall of botocore\n",
      "  Moving to /Users/jeffrey.magouirk/.local/lib/python3.7/site-packages/botocore-1.13.24.dist-info/\n",
      "   from /Users/jeffrey.magouirk/.local/lib/python3.7/site-packages/~otocore-1.13.24.dist-info\n",
      "  Moving to /Users/jeffrey.magouirk/.local/lib/python3.7/site-packages/botocore/\n",
      "   from /Users/jeffrey.magouirk/.local/lib/python3.7/site-packages/~otocore\n",
      "\u001b[31mERROR: Could not install packages due to an EnvironmentError: [Errno 13] Permission denied: '/opt/anaconda3/lib/python3.7/site-packages/botocore/data/sesv2/2019-09-27/service-2.json'\n",
      "Consider using the `--user` option or check the permissions.\n",
      "\u001b[0m\n"
     ]
    }
   ],
   "source": [
    "!pip install sagemaker"
   ]
  },
  {
   "cell_type": "code",
   "execution_count": 3,
   "metadata": {},
   "outputs": [
    {
     "ename": "ModuleNotFoundError",
     "evalue": "No module named 'sagemaker'",
     "output_type": "error",
     "traceback": [
      "\u001b[0;31m---------------------------------------------------------------------------\u001b[0m",
      "\u001b[0;31mModuleNotFoundError\u001b[0m                       Traceback (most recent call last)",
      "\u001b[0;32m<ipython-input-3-7ed18d24c08d>\u001b[0m in \u001b[0;36m<module>\u001b[0;34m\u001b[0m\n\u001b[1;32m      6\u001b[0m \u001b[0;32mimport\u001b[0m \u001b[0mmultiprocessing\u001b[0m \u001b[0;32mas\u001b[0m \u001b[0mmp\u001b[0m\u001b[0;34m\u001b[0m\u001b[0;34m\u001b[0m\u001b[0m\n\u001b[1;32m      7\u001b[0m \u001b[0;34m\u001b[0m\u001b[0m\n\u001b[0;32m----> 8\u001b[0;31m \u001b[0;32mimport\u001b[0m \u001b[0msagemaker\u001b[0m\u001b[0;34m\u001b[0m\u001b[0;34m\u001b[0m\u001b[0m\n\u001b[0m\u001b[1;32m      9\u001b[0m \u001b[0;32mfrom\u001b[0m \u001b[0msagemaker\u001b[0m \u001b[0;32mimport\u001b[0m \u001b[0mget_execution_role\u001b[0m\u001b[0;34m\u001b[0m\u001b[0;34m\u001b[0m\u001b[0m\n\u001b[1;32m     10\u001b[0m \u001b[0;34m\u001b[0m\u001b[0m\n",
      "\u001b[0;31mModuleNotFoundError\u001b[0m: No module named 'sagemaker'"
     ]
    }
   ],
   "source": [
    "import os\n",
    "import json\n",
    "import boto3\n",
    "from itertools import chain\n",
    "from concurrent.futures import ProcessPoolExecutor\n",
    "import multiprocessing as mp\n",
    "\n",
    "import sagemaker\n",
    "from sagemaker import get_execution_role\n",
    "\n",
    "sagemaker_session = sagemaker.Session()\n",
    "\n",
    "s3 = boto3.resource('s3')\n",
    "\n",
    "import numpy as np\n",
    "import pandas as pd\n",
    "from tqdm.auto import tqdm\n",
    "from jsonpath_ng import jsonpath, parse\n",
    "\n",
    "#from dsmatch import local_bucket,s3_ds_bucket\n",
    "#from dsmatch.util.parallel import get_n_splits"
   ]
  },
  {
   "cell_type": "markdown",
   "metadata": {},
   "source": [
    "<h3> Bringing in the parsed Burning Glass files of job descriptions </h3>"
   ]
  },
  {
   "cell_type": "code",
   "execution_count": null,
   "metadata": {},
   "outputs": [],
   "source": [
    "input_dir_jd = os.path.join(local_bucket, 'data', 'efc', 'jobseeker-applies','job_descriptions')#Calling parsed jd by BG\n",
    "folders = [x for x in os.listdir(input_dir_jd) if not x.endswith('.csv')]#calling the folders insde the jobseeker-apples\n",
    "output_dir_jd='bg-jd-skill-names' # output dir \n",
    "output_path_jd = os.path.join(local_bucket, 'data', 'efc', 'jobseeker-applies', output_dir_jd)#output path\n",
    "\n",
    "total_jd=[]#making an object\n",
    "for folder in folders:\n",
    "#     already_processed_names = [f.split('/')[-1][:-4] for f in os.listdir(output_path_jd) if f.endswith('.csv')]#\n",
    "    filelist=[os.path.join(input_dir_jd, folder, x)\\\n",
    "              for x in os.listdir(os.path.join(input_dir_jd, folder)) \\\n",
    "#               if x.endswith(\".json\") and x[:-5] not in already_processed_names\n",
    "             ]\n",
    "    total_jd.extend(filelist)\n",
    "\n",
    "print(\"Number of files need to process\",len(total_jd))\n",
    "#print(\"Number Processed files\",len)\n",
    "############### Output when the notebook can connect to AWS\n",
    "######Number of files need to process 40605 #############"
   ]
  },
  {
   "cell_type": "markdown",
   "metadata": {},
   "source": [
    "Defined function to read in the filelist "
   ]
  },
  {
   "cell_type": "code",
   "execution_count": null,
   "metadata": {},
   "outputs": [],
   "source": [
    "def process_files(filelist):\n",
    "    records = []\n",
    "    for filename in filelist:\n",
    "        with open(filename, 'r') as f:\n",
    "            d = json.load(f)\n",
    "            jsonpath_expr = parse(f'$..skillrollup[*].canonskill[*].variant[*]')\n",
    "            matches = [match.value for match in jsonpath_expr.find(d)]\n",
    "            if len(matches) > 0:        \n",
    "                splitted = filename.split('/')\n",
    "                date_name = splitted[-2]\n",
    "                job_application_id = splitted[-1][:-5]\n",
    "                records.append((date_name, job_application_id, matches))\n",
    "    return records\n",
    "            \n",
    "max_workers = mp.cpu_count() - 1"
   ]
  },
  {
   "cell_type": "markdown",
   "metadata": {},
   "source": [
    "<h4> Looking at the output of date_name, job_application_id, parsed data(variant) </h4>"
   ]
  },
  {
   "cell_type": "code",
   "execution_count": null,
   "metadata": {},
   "outputs": [],
   "source": [
    "df_0 = pd.DataFrame(records)\n",
    "df_0.info()\n",
    "df_0.head()"
   ]
  },
  {
   "cell_type": "code",
   "execution_count": null,
   "metadata": {},
   "outputs": [],
   "source": [
    "import re\n",
    "\n",
    "df_jd = pd.DataFrame(records, columns=['date', 'job_application_id', 'variant'])\n",
    "\n",
    "\n",
    "df_jd = df_jd.explode('variant')\n",
    "df_jd.drop_duplicates(inplace=True)\n",
    "\n",
    "df_jd['variant'] = df_jd['variant'].str.lower()\n",
    "\n",
    "###Top 20 langugaes spoken in the world, by number of estimated speakers\n",
    "\n",
    "L = ['arabic','english','chinese','japanese','mandarin','hinidi','spanish','french','bengali','russian',\n",
    "    'portuguese','urdu','german','indonesian','swahili','marathi','telugu','turkish','cantonese','tamil',\n",
    "    'western punjabi','punjabi']\n",
    "\n",
    "df_jd[\"Required_language\"]= df_jd['variant'].str.contains('|'.join(L), flags=re.I)\n",
    "\n",
    "print('Required Language = \\n',df_jd['Required_language'].value_counts())\n",
    "df_language = pd.DataFrame(df_jd[df_jd['Required_language']==True])\n",
    "print('Variant = \\n',df_language['variant'].value_counts().sort_values(ascending =False))\n",
    "df_cnts = pd.DataFrame(df_language['job_application_id'].value_counts().sort_values(ascending=False))\n",
    "print('Counts of Languages = \\n',df_cnts['job_application_id'].value_counts().sort_values(ascending=False))\n"
   ]
  },
  {
   "cell_type": "code",
   "execution_count": null,
   "metadata": {},
   "outputs": [],
   "source": [
    "##Output of the code above\n",
    "Required Language = \n",
    " False    340605\n",
    "True      19116\n",
    "Name: Required_language, dtype: int64\n",
    "Variant = \n",
    " english             8242\n",
    "mandarin            3564\n",
    "chinese             2624\n",
    "cantonese           1510\n",
    "french               798\n",
    "arabic               769\n",
    "german               738\n",
    "russian              275\n",
    "spanish              236\n",
    "japanese             191\n",
    "business english      95\n",
    "indonesian            44\n",
    "portuguese            30\n",
    "Name: variant, dtype: int64\n",
    "Counts of Languages = \n",
    " 2    4880\n",
    "1    3191\n",
    "3    1687\n",
    "4     276\n",
    "Name: job_application_id, dtype: int64"
   ]
  }
 ],
 "metadata": {
  "kernelspec": {
   "display_name": "Python 3",
   "language": "python",
   "name": "python3"
  },
  "language_info": {
   "codemirror_mode": {
    "name": "ipython",
    "version": 3
   },
   "file_extension": ".py",
   "mimetype": "text/x-python",
   "name": "python",
   "nbconvert_exporter": "python",
   "pygments_lexer": "ipython3",
   "version": "3.7.4"
  }
 },
 "nbformat": 4,
 "nbformat_minor": 2
}
